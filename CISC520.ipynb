{
  "nbformat": 4,
  "nbformat_minor": 0,
  "metadata": {
    "colab": {
      "name": "CISC520.ipynb",
      "provenance": [],
      "collapsed_sections": [],
      "authorship_tag": "ABX9TyPBVcoCXws1+RAHcvLmR9WI",
      "include_colab_link": true
    },
    "kernelspec": {
      "name": "python3",
      "display_name": "Python 3"
    }
  },
  "cells": [
    {
      "cell_type": "markdown",
      "metadata": {
        "id": "view-in-github",
        "colab_type": "text"
      },
      "source": [
        "<a href=\"https://colab.research.google.com/github/J-Chaudhary/test/blob/master/CISC520.ipynb\" target=\"_parent\"><img src=\"https://colab.research.google.com/assets/colab-badge.svg\" alt=\"Open In Colab\"/></a>"
      ]
    },
    {
      "cell_type": "markdown",
      "metadata": {
        "id": "zEO2xxHcerHQ",
        "colab_type": "text"
      },
      "source": [
        "**CISC 520-51- B-2020/Late Spring - Data Engineering and Mining**\n",
        "\n",
        "Student: Jignesh Chaudhary(id.197320), Instructor:  Khaled Iskandarani\n",
        "# **Final Project**\n",
        "\n",
        "## **Time Series forcast of financial Instrument**\n",
        "\n",
        "Time series data collected from the real-life things. we can use this time series data on computer to get graphical and numerical outputs. The output of the analysis tells us more about real-life situation. It can be used to make a prediction of future values. \n",
        "\n",
        "The time series is a series of numerical measurement of the same entity taken at equally spaced intervals over time. Time series data can be collected yearly, monthly, weekly, daily, or even hourly.  \n",
        "\n",
        "Time series data has four aspect of behaviour Trend, Seasonality, Cycles and Unexplained variation. They can also be a irregularities or outliers in the data which can be related back to real-world occurrences. Trend is the overall long term direction of the series. Seasonality occurs when there is a repeated behaviour in the data which occurs a regular intervals. Seasonality is related to seasonal, netural or human behaviour. Cycles occure when the series follows an up and down pattern it is not seasonal. The cycles can be a verying lenght which makes them more difficult to detect then the seasonality. In all data there is random variation, some tome series can be very regular with literal random variation while other may consist of not much else. Some time there is strange dips and jumps in a series these can be du to one-off event such as an economical crices in financial market or recent example is the Corona pendemic which effects the financial markets all over the world. \n",
        "There are many computer modules that can help to do the mechanics of time series analysis. It is very important to relate the methematical aspects of the series to the real-life application. This is make time series analysis so interasting.    \n",
        "There are many python modules available for time series analysis such as numpy, pandas, scipy, scikit learn, Statsmodel, matplotlib and datetime. the models available for forcasting are ARIMA model, fbprophat and many more.\n",
        "\n",
        "For this final project I am using daily data of Dow Jones Industrial Index (^DJI) from Yahoo finance portal. Yahoo! collects financial data from data vendors. Yahoo! finance is a media property that part of Yahoo!’s network. Yahoo! Finance provides financial news, data and various online tools that can help investors to track their portfolio values and future investment opportunities. \n",
        "\n",
        "**Details of collected data**\n",
        "\n",
        "**Ticker:** Dow Jones Industrial Average (^DJI)\n",
        "\n",
        "**Primary time unit:** Date\n",
        "\n",
        "\n",
        "I am using fbprophet module form python to predict the future price of selected financial instrument. \n",
        "\n",
        "Prophet follows the sklearn model API. We create an instance of the Prophet class and then call its fit and predict methods.\n",
        "The input to Prophet is always a data frame with two columns: ds and y. The ds (datestamp) column should be of a format expected by Pandas, ideally YYYY-MM-DD for a date or YYYY-MM-DD HH:MM:SS for a timestamp. The y column must be numeric and represents the measurement we wish to forecast."
      ]
    },
    {
      "cell_type": "code",
      "metadata": {
        "id": "0rRMszhvfMcB",
        "colab_type": "code",
        "colab": {}
      },
      "source": [
        "import pandas as pd          # pandas library\n",
        "import numpy as np          # For mathematical calculations \n",
        "import matplotlib.pyplot as plt  # For plotting graphs \n",
        "from datetime import datetime    # To access datetime \n",
        "from pandas import Series        # To work on series \n",
        "import pandas_datareader as web # get data form yahoo\n",
        "from fbprophet import Prophet # fbprophet model"
      ],
      "execution_count": 0,
      "outputs": []
    },
    {
      "cell_type": "code",
      "metadata": {
        "id": "PFa53LuPpZKC",
        "colab_type": "code",
        "colab": {}
      },
      "source": [
        "# Importing data form yahoo finance using pandas datareader \n",
        "df = web.DataReader('^DJI', data_source='yahoo', start='2019-04-01', end='2020-06-11')"
      ],
      "execution_count": 0,
      "outputs": []
    },
    {
      "cell_type": "code",
      "metadata": {
        "id": "lTbQN9NGpuEa",
        "colab_type": "code",
        "colab": {
          "base_uri": "https://localhost:8080/",
          "height": 34
        },
        "outputId": "b261a518-bf2e-459d-a4ef-4b01b6333fbd"
      },
      "source": [
        "df.shape"
      ],
      "execution_count": 34,
      "outputs": [
        {
          "output_type": "execute_result",
          "data": {
            "text/plain": [
              "(303, 6)"
            ]
          },
          "metadata": {
            "tags": []
          },
          "execution_count": 34
        }
      ]
    },
    {
      "cell_type": "code",
      "metadata": {
        "id": "saMIt225p9cJ",
        "colab_type": "code",
        "colab": {
          "base_uri": "https://localhost:8080/",
          "height": 34
        },
        "outputId": "f213c3da-fe3d-4e05-cfa9-37c8607fec60"
      },
      "source": [
        "df.columns"
      ],
      "execution_count": 35,
      "outputs": [
        {
          "output_type": "execute_result",
          "data": {
            "text/plain": [
              "Index(['High', 'Low', 'Open', 'Close', 'Volume', 'Adj Close'], dtype='object')"
            ]
          },
          "metadata": {
            "tags": []
          },
          "execution_count": 35
        }
      ]
    },
    {
      "cell_type": "code",
      "metadata": {
        "id": "mLvJJrGEqAwi",
        "colab_type": "code",
        "colab": {
          "base_uri": "https://localhost:8080/",
          "height": 431
        },
        "outputId": "8265d9ee-e66f-404d-f0f5-08de25ae9c3f"
      },
      "source": [
        "df"
      ],
      "execution_count": 36,
      "outputs": [
        {
          "output_type": "execute_result",
          "data": {
            "text/html": [
              "<div>\n",
              "<style scoped>\n",
              "    .dataframe tbody tr th:only-of-type {\n",
              "        vertical-align: middle;\n",
              "    }\n",
              "\n",
              "    .dataframe tbody tr th {\n",
              "        vertical-align: top;\n",
              "    }\n",
              "\n",
              "    .dataframe thead th {\n",
              "        text-align: right;\n",
              "    }\n",
              "</style>\n",
              "<table border=\"1\" class=\"dataframe\">\n",
              "  <thead>\n",
              "    <tr style=\"text-align: right;\">\n",
              "      <th></th>\n",
              "      <th>High</th>\n",
              "      <th>Low</th>\n",
              "      <th>Open</th>\n",
              "      <th>Close</th>\n",
              "      <th>Volume</th>\n",
              "      <th>Adj Close</th>\n",
              "    </tr>\n",
              "    <tr>\n",
              "      <th>Date</th>\n",
              "      <th></th>\n",
              "      <th></th>\n",
              "      <th></th>\n",
              "      <th></th>\n",
              "      <th></th>\n",
              "      <th></th>\n",
              "    </tr>\n",
              "  </thead>\n",
              "  <tbody>\n",
              "    <tr>\n",
              "      <th>2019-04-01</th>\n",
              "      <td>26280.900391</td>\n",
              "      <td>26071.689453</td>\n",
              "      <td>26075.099609</td>\n",
              "      <td>26258.419922</td>\n",
              "      <td>295570000</td>\n",
              "      <td>26258.419922</td>\n",
              "    </tr>\n",
              "    <tr>\n",
              "      <th>2019-04-02</th>\n",
              "      <td>26221.240234</td>\n",
              "      <td>26122.310547</td>\n",
              "      <td>26213.550781</td>\n",
              "      <td>26179.130859</td>\n",
              "      <td>250940000</td>\n",
              "      <td>26179.130859</td>\n",
              "    </tr>\n",
              "    <tr>\n",
              "      <th>2019-04-03</th>\n",
              "      <td>26282.169922</td>\n",
              "      <td>26138.470703</td>\n",
              "      <td>26238.029297</td>\n",
              "      <td>26218.130859</td>\n",
              "      <td>271980000</td>\n",
              "      <td>26218.130859</td>\n",
              "    </tr>\n",
              "    <tr>\n",
              "      <th>2019-04-04</th>\n",
              "      <td>26398.900391</td>\n",
              "      <td>26212.779297</td>\n",
              "      <td>26213.419922</td>\n",
              "      <td>26384.630859</td>\n",
              "      <td>233040000</td>\n",
              "      <td>26384.630859</td>\n",
              "    </tr>\n",
              "    <tr>\n",
              "      <th>2019-04-05</th>\n",
              "      <td>26487.570312</td>\n",
              "      <td>26370.820312</td>\n",
              "      <td>26427.560547</td>\n",
              "      <td>26424.990234</td>\n",
              "      <td>229550000</td>\n",
              "      <td>26424.990234</td>\n",
              "    </tr>\n",
              "    <tr>\n",
              "      <th>...</th>\n",
              "      <td>...</td>\n",
              "      <td>...</td>\n",
              "      <td>...</td>\n",
              "      <td>...</td>\n",
              "      <td>...</td>\n",
              "      <td>...</td>\n",
              "    </tr>\n",
              "    <tr>\n",
              "      <th>2020-06-05</th>\n",
              "      <td>27338.300781</td>\n",
              "      <td>26836.800781</td>\n",
              "      <td>26836.800781</td>\n",
              "      <td>27110.980469</td>\n",
              "      <td>542310000</td>\n",
              "      <td>27110.980469</td>\n",
              "    </tr>\n",
              "    <tr>\n",
              "      <th>2020-06-08</th>\n",
              "      <td>27580.210938</td>\n",
              "      <td>27232.480469</td>\n",
              "      <td>27232.929688</td>\n",
              "      <td>27572.439453</td>\n",
              "      <td>430200000</td>\n",
              "      <td>27572.439453</td>\n",
              "    </tr>\n",
              "    <tr>\n",
              "      <th>2020-06-09</th>\n",
              "      <td>27447.369141</td>\n",
              "      <td>27151.060547</td>\n",
              "      <td>27447.369141</td>\n",
              "      <td>27272.300781</td>\n",
              "      <td>381430000</td>\n",
              "      <td>27272.300781</td>\n",
              "    </tr>\n",
              "    <tr>\n",
              "      <th>2020-06-10</th>\n",
              "      <td>27355.220703</td>\n",
              "      <td>26938.050781</td>\n",
              "      <td>27251.890625</td>\n",
              "      <td>26989.990234</td>\n",
              "      <td>448930000</td>\n",
              "      <td>26989.990234</td>\n",
              "    </tr>\n",
              "    <tr>\n",
              "      <th>2020-06-11</th>\n",
              "      <td>26294.080078</td>\n",
              "      <td>25082.720703</td>\n",
              "      <td>26282.509766</td>\n",
              "      <td>25128.169922</td>\n",
              "      <td>647780000</td>\n",
              "      <td>25128.169922</td>\n",
              "    </tr>\n",
              "  </tbody>\n",
              "</table>\n",
              "<p>303 rows × 6 columns</p>\n",
              "</div>"
            ],
            "text/plain": [
              "                    High           Low  ...     Volume     Adj Close\n",
              "Date                                    ...                         \n",
              "2019-04-01  26280.900391  26071.689453  ...  295570000  26258.419922\n",
              "2019-04-02  26221.240234  26122.310547  ...  250940000  26179.130859\n",
              "2019-04-03  26282.169922  26138.470703  ...  271980000  26218.130859\n",
              "2019-04-04  26398.900391  26212.779297  ...  233040000  26384.630859\n",
              "2019-04-05  26487.570312  26370.820312  ...  229550000  26424.990234\n",
              "...                  ...           ...  ...        ...           ...\n",
              "2020-06-05  27338.300781  26836.800781  ...  542310000  27110.980469\n",
              "2020-06-08  27580.210938  27232.480469  ...  430200000  27572.439453\n",
              "2020-06-09  27447.369141  27151.060547  ...  381430000  27272.300781\n",
              "2020-06-10  27355.220703  26938.050781  ...  448930000  26989.990234\n",
              "2020-06-11  26294.080078  25082.720703  ...  647780000  25128.169922\n",
              "\n",
              "[303 rows x 6 columns]"
            ]
          },
          "metadata": {
            "tags": []
          },
          "execution_count": 36
        }
      ]
    },
    {
      "cell_type": "code",
      "metadata": {
        "id": "bOlLEdLOqJmI",
        "colab_type": "code",
        "colab": {
          "base_uri": "https://localhost:8080/",
          "height": 166
        },
        "outputId": "509b8af3-b05b-4dca-d4ad-478297452f62"
      },
      "source": [
        "# created Date column using dataframe index\n",
        "df['Date'] = df.index\n",
        "df.head(3)"
      ],
      "execution_count": 37,
      "outputs": [
        {
          "output_type": "execute_result",
          "data": {
            "text/html": [
              "<div>\n",
              "<style scoped>\n",
              "    .dataframe tbody tr th:only-of-type {\n",
              "        vertical-align: middle;\n",
              "    }\n",
              "\n",
              "    .dataframe tbody tr th {\n",
              "        vertical-align: top;\n",
              "    }\n",
              "\n",
              "    .dataframe thead th {\n",
              "        text-align: right;\n",
              "    }\n",
              "</style>\n",
              "<table border=\"1\" class=\"dataframe\">\n",
              "  <thead>\n",
              "    <tr style=\"text-align: right;\">\n",
              "      <th></th>\n",
              "      <th>High</th>\n",
              "      <th>Low</th>\n",
              "      <th>Open</th>\n",
              "      <th>Close</th>\n",
              "      <th>Volume</th>\n",
              "      <th>Adj Close</th>\n",
              "      <th>Date</th>\n",
              "    </tr>\n",
              "    <tr>\n",
              "      <th>Date</th>\n",
              "      <th></th>\n",
              "      <th></th>\n",
              "      <th></th>\n",
              "      <th></th>\n",
              "      <th></th>\n",
              "      <th></th>\n",
              "      <th></th>\n",
              "    </tr>\n",
              "  </thead>\n",
              "  <tbody>\n",
              "    <tr>\n",
              "      <th>2019-04-01</th>\n",
              "      <td>26280.900391</td>\n",
              "      <td>26071.689453</td>\n",
              "      <td>26075.099609</td>\n",
              "      <td>26258.419922</td>\n",
              "      <td>295570000</td>\n",
              "      <td>26258.419922</td>\n",
              "      <td>2019-04-01</td>\n",
              "    </tr>\n",
              "    <tr>\n",
              "      <th>2019-04-02</th>\n",
              "      <td>26221.240234</td>\n",
              "      <td>26122.310547</td>\n",
              "      <td>26213.550781</td>\n",
              "      <td>26179.130859</td>\n",
              "      <td>250940000</td>\n",
              "      <td>26179.130859</td>\n",
              "      <td>2019-04-02</td>\n",
              "    </tr>\n",
              "    <tr>\n",
              "      <th>2019-04-03</th>\n",
              "      <td>26282.169922</td>\n",
              "      <td>26138.470703</td>\n",
              "      <td>26238.029297</td>\n",
              "      <td>26218.130859</td>\n",
              "      <td>271980000</td>\n",
              "      <td>26218.130859</td>\n",
              "      <td>2019-04-03</td>\n",
              "    </tr>\n",
              "  </tbody>\n",
              "</table>\n",
              "</div>"
            ],
            "text/plain": [
              "                    High           Low  ...     Adj Close       Date\n",
              "Date                                    ...                         \n",
              "2019-04-01  26280.900391  26071.689453  ...  26258.419922 2019-04-01\n",
              "2019-04-02  26221.240234  26122.310547  ...  26179.130859 2019-04-02\n",
              "2019-04-03  26282.169922  26138.470703  ...  26218.130859 2019-04-03\n",
              "\n",
              "[3 rows x 7 columns]"
            ]
          },
          "metadata": {
            "tags": []
          },
          "execution_count": 37
        }
      ]
    },
    {
      "cell_type": "code",
      "metadata": {
        "id": "9_j2InMmqnrh",
        "colab_type": "code",
        "colab": {
          "base_uri": "https://localhost:8080/",
          "height": 225
        },
        "outputId": "e4a795fb-478a-4001-e89c-78c161b04970"
      },
      "source": [
        "# create new dataframe with only Date and Close price colum\n",
        "df=df.loc[:,['Date','Close']]\n",
        "df.head()"
      ],
      "execution_count": 38,
      "outputs": [
        {
          "output_type": "execute_result",
          "data": {
            "text/html": [
              "<div>\n",
              "<style scoped>\n",
              "    .dataframe tbody tr th:only-of-type {\n",
              "        vertical-align: middle;\n",
              "    }\n",
              "\n",
              "    .dataframe tbody tr th {\n",
              "        vertical-align: top;\n",
              "    }\n",
              "\n",
              "    .dataframe thead th {\n",
              "        text-align: right;\n",
              "    }\n",
              "</style>\n",
              "<table border=\"1\" class=\"dataframe\">\n",
              "  <thead>\n",
              "    <tr style=\"text-align: right;\">\n",
              "      <th></th>\n",
              "      <th>Date</th>\n",
              "      <th>Close</th>\n",
              "    </tr>\n",
              "    <tr>\n",
              "      <th>Date</th>\n",
              "      <th></th>\n",
              "      <th></th>\n",
              "    </tr>\n",
              "  </thead>\n",
              "  <tbody>\n",
              "    <tr>\n",
              "      <th>2019-04-01</th>\n",
              "      <td>2019-04-01</td>\n",
              "      <td>26258.419922</td>\n",
              "    </tr>\n",
              "    <tr>\n",
              "      <th>2019-04-02</th>\n",
              "      <td>2019-04-02</td>\n",
              "      <td>26179.130859</td>\n",
              "    </tr>\n",
              "    <tr>\n",
              "      <th>2019-04-03</th>\n",
              "      <td>2019-04-03</td>\n",
              "      <td>26218.130859</td>\n",
              "    </tr>\n",
              "    <tr>\n",
              "      <th>2019-04-04</th>\n",
              "      <td>2019-04-04</td>\n",
              "      <td>26384.630859</td>\n",
              "    </tr>\n",
              "    <tr>\n",
              "      <th>2019-04-05</th>\n",
              "      <td>2019-04-05</td>\n",
              "      <td>26424.990234</td>\n",
              "    </tr>\n",
              "  </tbody>\n",
              "</table>\n",
              "</div>"
            ],
            "text/plain": [
              "                 Date         Close\n",
              "Date                               \n",
              "2019-04-01 2019-04-01  26258.419922\n",
              "2019-04-02 2019-04-02  26179.130859\n",
              "2019-04-03 2019-04-03  26218.130859\n",
              "2019-04-04 2019-04-04  26384.630859\n",
              "2019-04-05 2019-04-05  26424.990234"
            ]
          },
          "metadata": {
            "tags": []
          },
          "execution_count": 38
        }
      ]
    },
    {
      "cell_type": "code",
      "metadata": {
        "id": "ErW_xPwcrQPA",
        "colab_type": "code",
        "colab": {
          "base_uri": "https://localhost:8080/",
          "height": 429
        },
        "outputId": "fe6b42c5-c782-4306-bd6e-cfc9ce5526a9"
      },
      "source": [
        "# Ploting the data using pyplot \n",
        "plt.figure(figsize=(18,6))\n",
        "plt.title('Closing price of ^DJI')\n",
        "plt.plot(df['Close'])\n",
        "plt.ylabel(\"Closing Price in USD '$'\",fontsize=18)\n",
        "plt.xlabel(\"Date\", fontsize=18)"
      ],
      "execution_count": 39,
      "outputs": [
        {
          "output_type": "execute_result",
          "data": {
            "text/plain": [
              "Text(0.5, 0, 'Date')"
            ]
          },
          "metadata": {
            "tags": []
          },
          "execution_count": 39
        },
        {
          "output_type": "display_data",
          "data": {
            "image/png": "[encoded data removed]",
            "text/plain": [
              "<Figure size 1296x432 with 1 Axes>"
            ]
          },
          "metadata": {
            "tags": [],
            "needs_background": "light"
          }
        }
      ]
    },
    {
      "cell_type": "code",
      "metadata": {
        "id": "NwAXpY7msaVH",
        "colab_type": "code",
        "colab": {
          "base_uri": "https://localhost:8080/",
          "height": 225
        },
        "outputId": "77fd9500-54b4-40fa-e860-fc23a08aadaf"
      },
      "source": [
        "# changing the colum name to use with prophet\n",
        "df.rename(columns = {'Date':'ds', 'Close':'y'}, inplace = True)\n",
        "df.head(5)"
      ],
      "execution_count": 41,
      "outputs": [
        {
          "output_type": "execute_result",
          "data": {
            "text/html": [
              "<div>\n",
              "<style scoped>\n",
              "    .dataframe tbody tr th:only-of-type {\n",
              "        vertical-align: middle;\n",
              "    }\n",
              "\n",
              "    .dataframe tbody tr th {\n",
              "        vertical-align: top;\n",
              "    }\n",
              "\n",
              "    .dataframe thead th {\n",
              "        text-align: right;\n",
              "    }\n",
              "</style>\n",
              "<table border=\"1\" class=\"dataframe\">\n",
              "  <thead>\n",
              "    <tr style=\"text-align: right;\">\n",
              "      <th></th>\n",
              "      <th>ds</th>\n",
              "      <th>y</th>\n",
              "    </tr>\n",
              "    <tr>\n",
              "      <th>Date</th>\n",
              "      <th></th>\n",
              "      <th></th>\n",
              "    </tr>\n",
              "  </thead>\n",
              "  <tbody>\n",
              "    <tr>\n",
              "      <th>2019-04-01</th>\n",
              "      <td>2019-04-01</td>\n",
              "      <td>26258.419922</td>\n",
              "    </tr>\n",
              "    <tr>\n",
              "      <th>2019-04-02</th>\n",
              "      <td>2019-04-02</td>\n",
              "      <td>26179.130859</td>\n",
              "    </tr>\n",
              "    <tr>\n",
              "      <th>2019-04-03</th>\n",
              "      <td>2019-04-03</td>\n",
              "      <td>26218.130859</td>\n",
              "    </tr>\n",
              "    <tr>\n",
              "      <th>2019-04-04</th>\n",
              "      <td>2019-04-04</td>\n",
              "      <td>26384.630859</td>\n",
              "    </tr>\n",
              "    <tr>\n",
              "      <th>2019-04-05</th>\n",
              "      <td>2019-04-05</td>\n",
              "      <td>26424.990234</td>\n",
              "    </tr>\n",
              "  </tbody>\n",
              "</table>\n",
              "</div>"
            ],
            "text/plain": [
              "                   ds             y\n",
              "Date                               \n",
              "2019-04-01 2019-04-01  26258.419922\n",
              "2019-04-02 2019-04-02  26179.130859\n",
              "2019-04-03 2019-04-03  26218.130859\n",
              "2019-04-04 2019-04-04  26384.630859\n",
              "2019-04-05 2019-04-05  26424.990234"
            ]
          },
          "metadata": {
            "tags": []
          },
          "execution_count": 41
        }
      ]
    },
    {
      "cell_type": "markdown",
      "metadata": {
        "id": "0Q2GHJe1vKry",
        "colab_type": "text"
      },
      "source": [
        "We can fit the model by instantiating a new Prophet object. Any settings to the forecasting procedure are passed into the constructor. Then we can call its fit method and pass in the historical dataframe."
      ]
    },
    {
      "cell_type": "code",
      "metadata": {
        "id": "JvcUmKTzuHBD",
        "colab_type": "code",
        "colab": {
          "base_uri": "https://localhost:8080/",
          "height": 67
        },
        "outputId": "7e6d9697-bf51-434e-b676-48ebbc83f74c"
      },
      "source": [
        "# Created prophet object and fit the data frame\n",
        "m = Prophet()\n",
        "m.fit(df)"
      ],
      "execution_count": 43,
      "outputs": [
        {
          "output_type": "stream",
          "text": [
            "INFO:fbprophet:Disabling yearly seasonality. Run prophet with yearly_seasonality=True to override this.\n",
            "INFO:fbprophet:Disabling daily seasonality. Run prophet with daily_seasonality=True to override this.\n"
          ],
          "name": "stderr"
        },
        {
          "output_type": "execute_result",
          "data": {
            "text/plain": [
              "<fbprophet.forecaster.Prophet at 0x7ff7bcdd8470>"
            ]
          },
          "metadata": {
            "tags": []
          },
          "execution_count": 43
        }
      ]
    },
    {
      "cell_type": "code",
      "metadata": {
        "id": "KPQUdBzUuTk0",
        "colab_type": "code",
        "colab": {
          "base_uri": "https://localhost:8080/",
          "height": 195
        },
        "outputId": "4689590e-1b7d-46dd-d914-7532f39a249b"
      },
      "source": [
        "future = m.make_future_dataframe(periods=365)\n",
        "forecast = m.predict(future)\n",
        "forecast[['ds', 'yhat', 'yhat_lower', 'yhat_upper']].tail()"
      ],
      "execution_count": 51,
      "outputs": [
        {
          "output_type": "execute_result",
          "data": {
            "text/html": [
              "<div>\n",
              "<style scoped>\n",
              "    .dataframe tbody tr th:only-of-type {\n",
              "        vertical-align: middle;\n",
              "    }\n",
              "\n",
              "    .dataframe tbody tr th {\n",
              "        vertical-align: top;\n",
              "    }\n",
              "\n",
              "    .dataframe thead th {\n",
              "        text-align: right;\n",
              "    }\n",
              "</style>\n",
              "<table border=\"1\" class=\"dataframe\">\n",
              "  <thead>\n",
              "    <tr style=\"text-align: right;\">\n",
              "      <th></th>\n",
              "      <th>ds</th>\n",
              "      <th>yhat</th>\n",
              "      <th>yhat_lower</th>\n",
              "      <th>yhat_upper</th>\n",
              "    </tr>\n",
              "  </thead>\n",
              "  <tbody>\n",
              "    <tr>\n",
              "      <th>663</th>\n",
              "      <td>2021-06-07</td>\n",
              "      <td>41202.016766</td>\n",
              "      <td>6363.996165</td>\n",
              "      <td>75691.028220</td>\n",
              "    </tr>\n",
              "    <tr>\n",
              "      <th>664</th>\n",
              "      <td>2021-06-08</td>\n",
              "      <td>41285.628155</td>\n",
              "      <td>5699.948885</td>\n",
              "      <td>76091.237421</td>\n",
              "    </tr>\n",
              "    <tr>\n",
              "      <th>665</th>\n",
              "      <td>2021-06-09</td>\n",
              "      <td>41338.534007</td>\n",
              "      <td>6019.708611</td>\n",
              "      <td>76388.135348</td>\n",
              "    </tr>\n",
              "    <tr>\n",
              "      <th>666</th>\n",
              "      <td>2021-06-10</td>\n",
              "      <td>41348.412207</td>\n",
              "      <td>5006.260187</td>\n",
              "      <td>76910.157345</td>\n",
              "    </tr>\n",
              "    <tr>\n",
              "      <th>667</th>\n",
              "      <td>2021-06-11</td>\n",
              "      <td>41418.283418</td>\n",
              "      <td>5524.956379</td>\n",
              "      <td>76898.034951</td>\n",
              "    </tr>\n",
              "  </tbody>\n",
              "</table>\n",
              "</div>"
            ],
            "text/plain": [
              "            ds          yhat   yhat_lower    yhat_upper\n",
              "663 2021-06-07  41202.016766  6363.996165  75691.028220\n",
              "664 2021-06-08  41285.628155  5699.948885  76091.237421\n",
              "665 2021-06-09  41338.534007  6019.708611  76388.135348\n",
              "666 2021-06-10  41348.412207  5006.260187  76910.157345\n",
              "667 2021-06-11  41418.283418  5524.956379  76898.034951"
            ]
          },
          "metadata": {
            "tags": []
          },
          "execution_count": 51
        }
      ]
    },
    {
      "cell_type": "code",
      "metadata": {
        "id": "dxiC4oG9uirE",
        "colab_type": "code",
        "colab": {
          "base_uri": "https://localhost:8080/",
          "height": 441
        },
        "outputId": "10505252-cd71-4720-e2b1-110d4bd5fec6"
      },
      "source": [
        "figure1 = m.plot(forecast)"
      ],
      "execution_count": 52,
      "outputs": [
        {
          "output_type": "display_data",
          "data": {
            "image/png": "[encoded data removed]",
            "text/plain": [
              "<Figure size 720x432 with 1 Axes>"
            ]
          },
          "metadata": {
            "tags": []
          }
        }
      ]
    },
    {
      "cell_type": "code",
      "metadata": {
        "id": "ZxYHKmEMuuUj",
        "colab_type": "code",
        "colab": {
          "base_uri": "https://localhost:8080/",
          "height": 441
        },
        "outputId": "6eb5779f-015e-4616-8de6-cd05d458faf6"
      },
      "source": [
        "figure2 = m.plot_components(forecast)"
      ],
      "execution_count": 53,
      "outputs": [
        {
          "output_type": "display_data",
          "data": {
            "image/png": "[encoded data removed]",
            "text/plain": [
              "<Figure size 648x432 with 2 Axes>"
            ]
          },
          "metadata": {
            "tags": []
          }
        }
      ]
    }
  ]
}